{
 "cells": [
  {
   "cell_type": "code",
   "execution_count": 6,
   "id": "09530997",
   "metadata": {},
   "outputs": [
    {
     "name": "stdout",
     "output_type": "stream",
     "text": [
      "Welcome to the Pattern Generator and Number Analyzer!\n",
      "\n",
      "Select an option:\n",
      "1. Generate a Pattern\n",
      "2. Analyze a Range of Numbers\n",
      "3. Exit\n",
      "Pattern:\n",
      "*\n",
      "**\n",
      "***\n",
      "****\n",
      "\n",
      "Select an option:\n",
      "1. Generate a Pattern\n",
      "2. Analyze a Range of Numbers\n",
      "3. Exit\n",
      "Number 3 is Odd\n",
      "Number 4 is Even\n",
      "Number 5 is Odd\n",
      "Sum of all numbers from 3 to 5 is: 12\n",
      "\n",
      "Select an option:\n",
      "1. Generate a Pattern\n",
      "2. Analyze a Range of Numbers\n",
      "3. Exit\n",
      "Exiting the program. Goodbye!\n"
     ]
    }
   ],
   "source": [
    "print(\"Welcome to the Pattern Generator and Number Analyzer!\")\n",
    "\n",
    "while True:\n",
    "    print(\"\\nSelect an option:\")\n",
    "    print(\"1. Generate a Pattern\")\n",
    "    print(\"2. Analyze a Range of Numbers\")\n",
    "    print(\"3. Exit\")\n",
    "    \n",
    "    choice = input(\"Enter your choice: \")\n",
    "\n",
    "    if choice == \"1\":\n",
    "        rows = int(input(\"Enter the number of rows for the pattern: \"))\n",
    "        if rows <= 0:\n",
    "            print(\"Invalid number of rows. Please enter a positive integer.\")\n",
    "        else:\n",
    "            print(\"Pattern:\")\n",
    "            for i in range(1, rows + 1):\n",
    "                print(\"*\" * i)\n",
    "\n",
    "    elif choice == \"2\":\n",
    "        start = int(input(\"Enter the start of the range: \"))\n",
    "        end = int(input(\"Enter the end of the range: \"))\n",
    "        if start > end:\n",
    "            print(\"Invalid range. Start should be less than or equal to end.\")\n",
    "        else:\n",
    "            total_sum = 0\n",
    "            for num in range(start, end + 1):\n",
    "                if num % 2 == 0:\n",
    "                    print(f\"Number {num} is Even\")\n",
    "                else:\n",
    "                    print(f\"Number {num} is Odd\")\n",
    "                total_sum += num\n",
    "            print(f\"Sum of all numbers from {start} to {end} is: {total_sum}\")\n",
    "\n",
    "    elif choice == \"3\":\n",
    "        print(\"Exiting the program. Goodbye!\")\n",
    "        break\n",
    "\n",
    "    else:\n",
    "        print(\"Invalid choice! Please select 1, 2, or 3.\")"
   ]
  }
 ],
 "metadata": {
  "kernelspec": {
   "display_name": "base",
   "language": "python",
   "name": "python3"
  },
  "language_info": {
   "codemirror_mode": {
    "name": "ipython",
    "version": 3
   },
   "file_extension": ".py",
   "mimetype": "text/x-python",
   "name": "python",
   "nbconvert_exporter": "python",
   "pygments_lexer": "ipython3",
   "version": "3.13.5"
  }
 },
 "nbformat": 4,
 "nbformat_minor": 5
}
