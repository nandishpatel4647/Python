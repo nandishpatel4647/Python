{
 "cells": [
  {
   "cell_type": "code",
   "execution_count": null,
   "id": "db964539",
   "metadata": {},
   "outputs": [],
   "source": [
    "def create_file(fname):\n",
    "    with open(fname, \"w\") as f:\n",
    "        pass\n",
    "    print(\"File created!\")\n",
    "\n",
    "def write_file(fname, data):\n",
    "    with open(fname, \"w\") as f:\n",
    "        f.write(data)\n",
    "    print(\"Data written!\")\n",
    "\n",
    "def read_file(fname):\n",
    "    try:\n",
    "        with open(fname, \"r\") as f:\n",
    "            print(\"File Content:\")\n",
    "            print(f.read())\n",
    "    except FileNotFoundError:\n",
    "        print(\"File not found!\")\n",
    "\n",
    "def append_file(fname, data):\n",
    "    with open(fname, \"a\") as f:\n",
    "        f.write(data)\n",
    "    print(\"Data appended!\")"
   ]
  }
 ],
 "metadata": {
  "language_info": {
   "name": "python"
  }
 },
 "nbformat": 4,
 "nbformat_minor": 5
}
