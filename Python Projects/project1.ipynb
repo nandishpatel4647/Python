{
 "cells": [
  {
   "cell_type": "code",
   "execution_count": 3,
   "id": "5396cd81",
   "metadata": {},
   "outputs": [
    {
     "name": "stdout",
     "output_type": "stream",
     "text": [
      "Name: Nandish (type: str, memory id: 1681175413120)\n",
      "Age: 18 (type: int, memory id: 140717707408840)\n",
      "Height: 160.0 cm (type: float, memory id: 1681151011792)\n",
      "Favourite Number: 26 (type: int, memory id: 140717707409096)\n",
      "\n",
      "You were born in: 2007\n",
      "Your height as an integer: 160cm\n",
      "\n",
      "Thank you for using the Personal Data Collector. Goodbye!\n"
     ]
    }
   ],
   "source": [
    "name = input(\"Please enter your name: \")\n",
    "age = int(input(\"Enter your age: \"))\n",
    "height = float(input(\"Enter your height in cm: \"))\n",
    "fav_number = int(input(\"Enter your favourite number: \"))\n",
    "\n",
    "current_year = int(input(\"Enter the current year: \"))\n",
    "birth_year = current_year - age\n",
    "height_int = int(height)\n",
    "\n",
    "print(f\"Name: {name} (type: {type(name).__name__}, memory id: {id(name)})\")\n",
    "print(f\"Age: {age} (type: {type(age).__name__}, memory id: {id(age)})\")\n",
    "print(f\"Height: {height} cm (type: {type(height).__name__}, memory id: {id(height)})\")\n",
    "print(f\"Favourite Number: {fav_number} (type: {type(fav_number).__name__}, memory id: {id(fav_number)})\")\n",
    "\n",
    "print(f\"\\nYou were born in: {birth_year}\")\n",
    "print(f\"Your height as an integer: {height_int}cm\")\n",
    "\n",
    "print(\"\\nThank you for using the Personal Data Collector. Goodbye!\")\n"
   ]
  }
 ],
 "metadata": {
  "kernelspec": {
   "display_name": "base",
   "language": "python",
   "name": "python3"
  },
  "language_info": {
   "codemirror_mode": {
    "name": "ipython",
    "version": 3
   },
   "file_extension": ".py",
   "mimetype": "text/x-python",
   "name": "python",
   "nbconvert_exporter": "python",
   "pygments_lexer": "ipython3",
   "version": "3.13.5"
  }
 },
 "nbformat": 4,
 "nbformat_minor": 5
}
