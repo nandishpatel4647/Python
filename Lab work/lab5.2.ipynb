{
 "cells": [
  {
   "cell_type": "code",
   "execution_count": null,
   "id": "d88b5465",
   "metadata": {},
   "outputs": [
    {
     "name": "stdout",
     "output_type": "stream",
     "text": [
      "Parent display method\n"
     ]
    }
   ],
   "source": [
    "#Q!\n",
    "\n",
    "class Parent:\n",
    "    def display(self):\n",
    "        print(\"Parent display method\")\n",
    "\n",
    "class Child(Parent):\n",
    "    pass\n",
    "\n",
    "c = Child()\n",
    "c.display()"
   ]
  },
  {
   "cell_type": "code",
   "execution_count": 20,
   "id": "7d952d8b",
   "metadata": {},
   "outputs": [
    {
     "name": "stdout",
     "output_type": "stream",
     "text": [
      "Name: Nandish\n",
      "Roll No: 101\n"
     ]
    }
   ],
   "source": [
    "#Q2\n",
    "\n",
    "class Student:\n",
    "    def __init__(self, name, roll):\n",
    "        self.name = name\n",
    "        self.roll = roll\n",
    "\n",
    "    def display(self):\n",
    "        print(\"Name:\", self.name)\n",
    "        print(\"Roll No:\", self.roll)\n",
    "\n",
    "s1 = Student(\"Nandish\", 101)\n",
    "s1.display()\n",
    "\n"
   ]
  },
  {
   "cell_type": "code",
   "execution_count": 2,
   "id": "01de318c",
   "metadata": {},
   "outputs": [
    {
     "name": "stdout",
     "output_type": "stream",
     "text": [
      "I am a Teacher\n",
      "I am an Administrator\n",
      "I am a Headmaster\n"
     ]
    }
   ],
   "source": [
    "#Q3\n",
    "\n",
    "class Teacher:\n",
    "    def role(self):\n",
    "        print(\"I am a Teacher\")\n",
    "\n",
    "class Administrator:\n",
    "    def role(self):\n",
    "        print(\"I am an Administrator\")\n",
    "\n",
    "class Headmaster(Teacher, Administrator):\n",
    "    def role(self):\n",
    "        print(\"I am a Headmaster\")\n",
    "\n",
    "h = Headmaster()\n",
    "Teacher.role(h)\n",
    "Administrator.role(h)\n",
    "h.role()\n"
   ]
  },
  {
   "cell_type": "code",
   "execution_count": 3,
   "id": "df13aa24",
   "metadata": {},
   "outputs": [
    {
     "name": "stdout",
     "output_type": "stream",
     "text": [
      "I am a Grandparent\n",
      "I am a Parent\n",
      "I am a Child\n"
     ]
    }
   ],
   "source": [
    "#Q4\n",
    "\n",
    "class Grandparent:\n",
    "    def role(self):\n",
    "        print(\"I am a Grandparent\")\n",
    "\n",
    "class Parent(Grandparent):\n",
    "    def role(self):\n",
    "        print(\"I am a Parent\")\n",
    "\n",
    "class Child(Parent):\n",
    "    def role(self):\n",
    "        print(\"I am a Child\")\n",
    "\n",
    "c = Child()\n",
    "Grandparent.role(c)\n",
    "Parent.role(c)\n",
    "c.role()\n"
   ]
  },
  {
   "cell_type": "code",
   "execution_count": 4,
   "id": "cf872683",
   "metadata": {},
   "outputs": [
    {
     "name": "stdout",
     "output_type": "stream",
     "text": [
      "I am a Dog\n",
      "I am a Cat\n"
     ]
    }
   ],
   "source": [
    "#Q5\n",
    "\n",
    "class Animal:\n",
    "    def speak(self):\n",
    "        print(\"I am an Animal\")\n",
    "\n",
    "class Dog(Animal):\n",
    "    def speak(self):\n",
    "        print(\"I am a Dog\")\n",
    "\n",
    "class Cat(Animal):\n",
    "    def speak(self):\n",
    "        print(\"I am a Cat\")\n",
    "\n",
    "d = Dog()\n",
    "c = Cat()\n",
    "d.speak()\n",
    "c.speak()\n"
   ]
  },
  {
   "cell_type": "code",
   "execution_count": 10,
   "id": "15f1af16",
   "metadata": {},
   "outputs": [
    {
     "name": "stdout",
     "output_type": "stream",
     "text": [
      "I am A\n",
      "I am C\n",
      "I am B\n",
      "I am D\n"
     ]
    }
   ],
   "source": [
    "#Q6\n",
    "\n",
    "class A:\n",
    "    def show(self):\n",
    "        print(\"I am A\")\n",
    "\n",
    "class B(A):\n",
    "    def show(self):\n",
    "        super().show()\n",
    "        print(\"I am B\")\n",
    "\n",
    "class C(A):\n",
    "    def show(self):\n",
    "        super().show()\n",
    "        print(\"I am C\")\n",
    "\n",
    "class D(B, C):\n",
    "    def show(self):\n",
    "        super().show()\n",
    "        print(\"I am D\")\n",
    "\n",
    "d = D()\n",
    "d.show()\n"
   ]
  },
  {
   "cell_type": "code",
   "execution_count": 12,
   "id": "4e037710",
   "metadata": {},
   "outputs": [
    {
     "name": "stdout",
     "output_type": "stream",
     "text": [
      "<class 'int'>\n",
      "<class 'str'>\n",
      "<class '__main__.MyClass'>\n"
     ]
    }
   ],
   "source": [
    "#Q7\n",
    "\n",
    "x = 10\n",
    "y = \"hello\"\n",
    "\n",
    "class MyClass: pass\n",
    "obj = MyClass()\n",
    "\n",
    "print(type(x))\n",
    "print(type(y))\n",
    "print(type(obj))\n"
   ]
  },
  {
   "cell_type": "code",
   "execution_count": null,
   "id": "4434bd3f",
   "metadata": {},
   "outputs": [
    {
     "name": "stdout",
     "output_type": "stream",
     "text": [
      "id(x): 140707930488840\n",
      "id(y): 140707930488840\n",
      "Same memory location\n"
     ]
    }
   ],
   "source": [
    "#Q8\n",
    "\n",
    "x = 100\n",
    "y = 100  \n",
    "\n",
    "print(\"id(x):\", id(x))\n",
    "print(\"id(y):\", id(y))\n",
    "\n",
    "if id(x) == id(y):\n",
    "    print(\"Same memory location\")\n",
    "else:\n",
    "    print(\"Different memory location\")\n"
   ]
  },
  {
   "cell_type": "code",
   "execution_count": null,
   "id": "3f3f993c",
   "metadata": {},
   "outputs": [
    {
     "name": "stdout",
     "output_type": "stream",
     "text": [
      "['__class__', '__delattr__', '__dict__', '__dir__', '__doc__', '__eq__', '__firstlineno__', '__format__', '__ge__', '__getattribute__', '__getstate__', '__gt__', '__hash__', '__init__', '__init_subclass__', '__le__', '__lt__', '__module__', '__ne__', '__new__', '__reduce__', '__reduce_ex__', '__repr__', '__setattr__', '__sizeof__', '__static_attributes__', '__str__', '__subclasshook__', '__weakref__', 'method1', 'method2']\n"
     ]
    }
   ],
   "source": [
    "#Q9\n",
    "\n",
    "class MyClass:\n",
    "    def method1(self): pass\n",
    "    def method2(self): pass\n",
    "\n",
    "print(dir(MyClass))\n"
   ]
  },
  {
   "cell_type": "code",
   "execution_count": 15,
   "id": "3024ef1d",
   "metadata": {},
   "outputs": [
    {
     "name": "stdout",
     "output_type": "stream",
     "text": [
      "True\n",
      "False\n"
     ]
    }
   ],
   "source": [
    "#Q10\n",
    "\n",
    "class MyClass: pass\n",
    "\n",
    "obj = MyClass()\n",
    "print(isinstance(obj, MyClass))\n",
    "print(isinstance(obj, int))\n"
   ]
  },
  {
   "cell_type": "code",
   "execution_count": 16,
   "id": "0ad0b020",
   "metadata": {},
   "outputs": [
    {
     "name": "stdout",
     "output_type": "stream",
     "text": [
      "Help on class MyClass in module __main__:\n",
      "\n",
      "class MyClass(builtins.object)\n",
      " |  This is MyClass docstring\n",
      " |\n",
      " |  Methods defined here:\n",
      " |\n",
      " |  my_method(self)\n",
      " |      This method does nothing\n",
      " |\n",
      " |  ----------------------------------------------------------------------\n",
      " |  Data descriptors defined here:\n",
      " |\n",
      " |  __dict__\n",
      " |      dictionary for instance variables\n",
      " |\n",
      " |  __weakref__\n",
      " |      list of weak references to the object\n",
      "\n"
     ]
    }
   ],
   "source": [
    "#Q11\n",
    "\n",
    "class MyClass:\n",
    "    \"\"\"This is MyClass docstring\"\"\"\n",
    "    def my_method(self):\n",
    "        \"\"\"This method does nothing\"\"\"\n",
    "        pass\n",
    "\n",
    "help(MyClass)\n"
   ]
  },
  {
   "cell_type": "code",
   "execution_count": 17,
   "id": "f0274d41",
   "metadata": {},
   "outputs": [
    {
     "name": "stdout",
     "output_type": "stream",
     "text": [
      "Square: 25\n",
      "Cube: 125\n"
     ]
    }
   ],
   "source": [
    "#Q12\n",
    "\n",
    "def outer(num):\n",
    "    def inner(n):\n",
    "        print(\"Cube:\", n**3)\n",
    "    print(\"Square:\", num**2)\n",
    "    inner(num)\n",
    "\n",
    "outer(5)\n"
   ]
  },
  {
   "cell_type": "code",
   "execution_count": 18,
   "id": "84fcaf24",
   "metadata": {},
   "outputs": [
    {
     "name": "stdout",
     "output_type": "stream",
     "text": [
      "Length of string: 11\n"
     ]
    }
   ],
   "source": [
    "#Q13\n",
    "\n",
    "def outer(text):\n",
    "    def inner(t):\n",
    "        print(\"Length of string:\", len(t))\n",
    "    inner(text)\n",
    "\n",
    "outer(\"Hello World\")\n"
   ]
  },
  {
   "cell_type": "code",
   "execution_count": 19,
   "id": "5c1a403d",
   "metadata": {},
   "outputs": [
    {
     "name": "stdout",
     "output_type": "stream",
     "text": [
      "Rectangle area: 20\n",
      "Square area: 16\n"
     ]
    }
   ],
   "source": [
    "#Q14\n",
    "\n",
    "def outer(length, width):\n",
    "    def inner(side):\n",
    "        print(\"Square area:\", side*side)\n",
    "    print(\"Rectangle area:\", length*width)\n",
    "    inner(min(length, width))\n",
    "\n",
    "outer(4, 5)\n"
   ]
  }
 ],
 "metadata": {
  "kernelspec": {
   "display_name": "base",
   "language": "python",
   "name": "python3"
  },
  "language_info": {
   "codemirror_mode": {
    "name": "ipython",
    "version": 3
   },
   "file_extension": ".py",
   "mimetype": "text/x-python",
   "name": "python",
   "nbconvert_exporter": "python",
   "pygments_lexer": "ipython3",
   "version": "3.13.5"
  }
 },
 "nbformat": 4,
 "nbformat_minor": 5
}
