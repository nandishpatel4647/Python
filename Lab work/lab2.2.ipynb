{
 "cells": [
  {
   "cell_type": "code",
   "execution_count": 1,
   "id": "e3e4aac5",
   "metadata": {},
   "outputs": [
    {
     "name": "stdout",
     "output_type": "stream",
     "text": [
      "The maximum number is: 33\n"
     ]
    }
   ],
   "source": [
    "# Q1 Write a Program in Python to find the maximum number from the given three numbers using a nested if statement.\n",
    "\n",
    "a = int(input(\"Enter first number: \"))\n",
    "b = int(input(\"Enter second number: \"))\n",
    "c = int(input(\"Enter third number: \"))\n",
    "\n",
    "if a >= b:\n",
    "    if a >= c:\n",
    "        print(f\"The maximum number is: {a}\")\n",
    "    else:\n",
    "        print(f\"The maximum number is: {c}\")\n",
    "else:\n",
    "    if b >= c:\n",
    "        print(f\"The maximum number is: {b}\")\n",
    "    else:\n",
    "        print(f\"The maximum number is: {c}\")"
   ]
  },
  {
   "cell_type": "code",
   "execution_count": 2,
   "id": "847fc102",
   "metadata": {},
   "outputs": [
    {
     "name": "stdout",
     "output_type": "stream",
     "text": [
      "The minimum number is: 11\n"
     ]
    }
   ],
   "source": [
    "# Q2 Write a Program in Python to find the minimum number from the given three numbers using a nested if statement.\n",
    "\n",
    "a = int(input(\"Enter first number: \"))\n",
    "b = int(input(\"Enter second number: \"))\n",
    "c = int(input(\"Enter third number: \"))\n",
    "\n",
    "if a <= b:\n",
    "    if a <= c:\n",
    "        print(f\"The minimum number is: {a}\")\n",
    "    else:\n",
    "        print(f\"The minimum number is: {c}\")\n",
    "else:\n",
    "    if b <= c:\n",
    "        print(f\"The minimum number is: {b}\")\n",
    "    else:\n",
    "        print(f\"The minimum number is: {c}\")"
   ]
  },
  {
   "cell_type": "code",
   "execution_count": 3,
   "id": "289f1fc5",
   "metadata": {},
   "outputs": [
    {
     "name": "stdout",
     "output_type": "stream",
     "text": [
      "The maximum number is: 44\n"
     ]
    }
   ],
   "source": [
    "# Q3 Write a Program in Python to find the maximum number from the given four numbers using a nested if statement.\n",
    "\n",
    "a = int(input(\"Enter first number: \"))\n",
    "b = int(input(\"Enter second number: \"))\n",
    "c = int(input(\"Enter third number: \"))\n",
    "d = int(input(\"Enter fourth number: \"))\n",
    "\n",
    "if a >= b:\n",
    "    if a >= c:\n",
    "        if a >= d:\n",
    "            print(f\"The maximum number is: {a}\")\n",
    "        else:\n",
    "            print(f\"The maximum number is: {d}\")\n",
    "    else:\n",
    "        if c >= d:\n",
    "            print(f\"The maximum number is: {c}\")\n",
    "        else:\n",
    "            print(f\"The maximum number is: {d}\")\n",
    "else:\n",
    "    if b >= c:\n",
    "        if b >= d:\n",
    "            print(f\"The maximum number is: {b}\")\n",
    "        else:\n",
    "            print(f\"The maximum number is: {d}\")\n",
    "    else:\n",
    "        if c >= d:\n",
    "            print(f\"The maximum number is: {c}\")\n",
    "        else:\n",
    "            print(f\"The maximum number is: {d}\")"
   ]
  },
  {
   "cell_type": "code",
   "execution_count": 4,
   "id": "8dfb05dc",
   "metadata": {},
   "outputs": [
    {
     "name": "stdout",
     "output_type": "stream",
     "text": [
      "Result: 33.0\n"
     ]
    }
   ],
   "source": [
    "# Q4 Write a Python program using a `switch-case` equivalent to:\n",
    "#- Take an operator (+`, `-`, `*`, `/`) as input.\n",
    "#- Perform the corresponding operation on two numbers entered by the user.\n",
    "\n",
    "a = float(input(\"Enter first number: \"))\n",
    "b = float(input(\"Enter second number: \"))\n",
    "op = input(\"Enter operator (+, -, *, /): \")\n",
    "\n",
    "match op:\n",
    "    case \"+\":\n",
    "        print(\"Result:\", a + b)\n",
    "    case \"-\":\n",
    "        print(\"Result:\", a - b)\n",
    "    case \"*\":\n",
    "        print(\"Result:\", a * b)\n",
    "    case \"/\":\n",
    "        if b != 0:\n",
    "            print(\"Result:\", a / b)\n",
    "        else:\n",
    "            print(\"Error: Division by zero is not allowed.\")\n",
    "    case _:\n",
    "        print(\"Invalid operator entered.\")"
   ]
  },
  {
   "cell_type": "code",
   "execution_count": 5,
   "id": "3cefff17",
   "metadata": {},
   "outputs": [
    {
     "name": "stdout",
     "output_type": "stream",
     "text": [
      "Welcome to Fast Food Corner!\n",
      "Press 1 to order a Sandwich\n",
      "Press 2 to order a Pizza\n",
      "Press 3 to order a Burger\n",
      "You selected Pizza.\n",
      "Press 1 for Thin Crust Pizza\n",
      "Press 2 for Cheese Burst Pizza\n",
      "Press 3 for Fresh Dough Pizza\n",
      "You ordered Cheese Burst Pizza.\n"
     ]
    }
   ],
   "source": [
    "''' Q5 Write a Program in Python to create a menu-driven fast-food order system using the 'match case' feature.\n",
    "For example:\n",
    "-Press 1 to order a Sandwich\n",
    "-Press 2 to order a Pizza\n",
    "-Press 3 to order a Burger\n",
    "Extend this program by adding a nested match case for each menu item's\n",
    "subtype selection by the user.\n",
    "For example:\n",
    "-Press 1 for Thin Crust Pizza\n",
    "-Press 2 for Cheese Burst Pizza\n",
    "-Press 3 for Fresh Dough Pizza'''\n",
    "\n",
    "print(\"Welcome to Fast Food Corner!\")\n",
    "print(\"Press 1 to order a Sandwich\")\n",
    "print(\"Press 2 to order a Pizza\")\n",
    "print(\"Press 3 to order a Burger\")\n",
    "\n",
    "choice = int(input(\"Enter your choice: \"))\n",
    "\n",
    "match choice:\n",
    "    case 1:\n",
    "        print(\"You selected Sandwich.\")\n",
    "        print(\"Press 1 for Veg Sandwich\")\n",
    "        print(\"Press 2 for Grilled Sandwich\")\n",
    "        print(\"Press 3 for Cheese Sandwich\")\n",
    "        sub = int(input(\"Enter your choice: \"))\n",
    "        match sub:\n",
    "            case 1:\n",
    "                print(\"You ordered Veg Sandwich.\")\n",
    "            case 2:\n",
    "                print(\"You ordered Grilled Sandwich.\")\n",
    "            case 3:\n",
    "                print(\"You ordered Cheese Sandwich.\")\n",
    "            case _:\n",
    "                print(\"Invalid Sandwich choice.\")\n",
    "    \n",
    "    case 2:\n",
    "        print(\"You selected Pizza.\")\n",
    "        print(\"Press 1 for Thin Crust Pizza\")\n",
    "        print(\"Press 2 for Cheese Burst Pizza\")\n",
    "        print(\"Press 3 for Fresh Dough Pizza\")\n",
    "        sub = int(input(\"Enter your choice: \"))\n",
    "        match sub:\n",
    "            case 1:\n",
    "                print(\"You ordered Thin Crust Pizza.\")\n",
    "            case 2:\n",
    "                print(\"You ordered Cheese Burst Pizza.\")\n",
    "            case 3:\n",
    "                print(\"You ordered Fresh Dough Pizza.\")\n",
    "            case _:\n",
    "                print(\"Invalid Pizza choice.\")\n",
    "    \n",
    "    case 3:\n",
    "        print(\"You selected Burger.\")\n",
    "        print(\"Press 1 for Veg Burger\")\n",
    "        print(\"Press 2 for Cheese Burger\")\n",
    "        print(\"Press 3 for Double Patty Burger\")\n",
    "        sub = int(input(\"Enter your choice: \"))\n",
    "        match sub:\n",
    "            case 1:\n",
    "                print(\"You ordered Veg Burger.\")\n",
    "            case 2:\n",
    "                print(\"You ordered Cheese Burger.\")\n",
    "            case 3:\n",
    "                print(\"You ordered Double Patty Burger.\")\n",
    "            case _:\n",
    "                print(\"Invalid Burger choice.\")\n",
    "    \n",
    "    case _:\n",
    "        print(\"Invalid main menu choice.\")"
   ]
  },
  {
   "cell_type": "code",
   "execution_count": 6,
   "id": "ecf81a4e",
   "metadata": {},
   "outputs": [
    {
     "name": "stdout",
     "output_type": "stream",
     "text": [
      "Welcome to Telecom Service!\n",
      "Press 1 for English\n",
      "Press 2 for Hindi\n",
      "Press 3 for Gujarati\n",
      "તમે ગુજરાતી પસંદ કર્યું છે.\n",
      "પ્રેસ 1 બેલેન્સ માટે\n",
      "પ્રેસ 2 રિચાર્જ માટે\n",
      "પ્રેસ 3 કસ્ટમર કેર માટે\n",
      "રીચાર્જ સફળ થયું.\n"
     ]
    }
   ],
   "source": [
    "''' Q6 Write a Program in Python to create a menu-driven telecom calling system using the 'match case' feature.\n",
    "- For example:\n",
    "- Press 1 for English\n",
    "Press 2 for Hindi\n",
    "Press 3 for Gujarati\n",
    "Extend this program by adding a nested match case for each menu item's appropriate subtype selection by the user. '''\n",
    "\n",
    "print(\"Welcome to Telecom Service!\")\n",
    "print(\"Press 1 for English\")\n",
    "print(\"Press 2 for Hindi\")\n",
    "print(\"Press 3 for Gujarati\")\n",
    "\n",
    "lang_choice = int(input(\"Enter your choice: \"))\n",
    "\n",
    "match lang_choice:\n",
    "    case 1:\n",
    "        print(\"You selected English.\")\n",
    "        print(\"Press 1 for Balance Inquiry\")\n",
    "        print(\"Press 2 for Recharge\")\n",
    "        print(\"Press 3 for Customer Care\")\n",
    "        sub_choice = int(input(\"Enter your choice: \"))\n",
    "        match sub_choice:\n",
    "            case 1:\n",
    "                print(\"Your balance is ₹250.\")\n",
    "            case 2:\n",
    "                print(\"Recharge successful.\")\n",
    "            case 3:\n",
    "                print(\"Connecting to Customer Care...\")\n",
    "            case _:\n",
    "                print(\"Invalid option in English menu.\")\n",
    "    \n",
    "    case 2:\n",
    "        print(\"आपने हिंदी चुना है।\")\n",
    "        print(\"1 दबाएँ बैलेंस जानकारी के लिए\")\n",
    "        print(\"2 दबाएँ रिचार्ज के लिए\")\n",
    "        print(\"3 दबाएँ कस्टमर केयर से बात करने के लिए\")\n",
    "        sub_choice = int(input(\"अपना विकल्प दर्ज करें: \"))\n",
    "        match sub_choice:\n",
    "            case 1:\n",
    "                print(\"आपका बैलेंस ₹250 है।\")\n",
    "            case 2:\n",
    "                print(\"रिचार्ज सफल हुआ।\")\n",
    "            case 3:\n",
    "                print(\"कस्टमर केयर से जोड़ रहे हैं...\")\n",
    "            case _:\n",
    "                print(\"हिंदी मेन्यू में अमान्य विकल्प।\")\n",
    "    \n",
    "    case 3:\n",
    "        print(\"તમે ગુજરાતી પસંદ કર્યું છે.\")\n",
    "        print(\"પ્રેસ 1 બેલેન્સ માટે\")\n",
    "        print(\"પ્રેસ 2 રિચાર્જ માટે\")\n",
    "        print(\"પ્રેસ 3 કસ્ટમર કેર માટે\")\n",
    "        sub_choice = int(input(\"તમારો વિકલ્પ દાખલ કરો: \"))\n",
    "        match sub_choice:\n",
    "            case 1:\n",
    "                print(\"તમારું બેલેન્સ ₹250 છે.\")\n",
    "            case 2:\n",
    "                print(\"રીચાર્જ સફળ થયું.\")\n",
    "            case 3:\n",
    "                print(\"કસ્ટમર કેર સાથે જોડાઈ રહ્યું છે...\")\n",
    "            case _:\n",
    "                print(\"ગુજરાતી મેનુમાં અમાન્ય વિકલ્પ.\")\n",
    "    \n",
    "    case _:\n",
    "        print(\"Invalid language selection.\")"
   ]
  }
 ],
 "metadata": {
  "kernelspec": {
   "display_name": "base",
   "language": "python",
   "name": "python3"
  },
  "language_info": {
   "codemirror_mode": {
    "name": "ipython",
    "version": 3
   },
   "file_extension": ".py",
   "mimetype": "text/x-python",
   "name": "python",
   "nbconvert_exporter": "python",
   "pygments_lexer": "ipython3",
   "version": "3.13.5"
  }
 },
 "nbformat": 4,
 "nbformat_minor": 5
}
