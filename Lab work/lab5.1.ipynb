{
 "cells": [
  {
   "cell_type": "code",
   "execution_count": 1,
   "id": "64cd00aa",
   "metadata": {},
   "outputs": [
    {
     "name": "stdout",
     "output_type": "stream",
     "text": [
      "Nandish\n",
      "18\n"
     ]
    }
   ],
   "source": [
    "#Q1 \n",
    "\n",
    "class Person:\n",
    "    name='Nandish'\n",
    "    age=18\n",
    "\n",
    "per1=Person()\n",
    "print(per1.name)\n",
    "per2=Person()\n",
    "print(per2.age)"
   ]
  },
  {
   "cell_type": "code",
   "execution_count": 2,
   "id": "848d031a",
   "metadata": {},
   "outputs": [
    {
     "name": "stdout",
     "output_type": "stream",
     "text": [
      "1\n",
      "2\n",
      "3\n"
     ]
    }
   ],
   "source": [
    "#Q2 \n",
    "\n",
    "class Counter:\n",
    "    count=0\n",
    "\n",
    "    def dis(self):\n",
    "        self.count=self.count+1\n",
    "        return self.count\n",
    "c=Counter()\n",
    "print(c.dis())\n",
    "print(c.dis())\n",
    "print(c.dis())"
   ]
  },
  {
   "cell_type": "code",
   "execution_count": 14,
   "id": "2f5c756d",
   "metadata": {},
   "outputs": [
    {
     "name": "stdout",
     "output_type": "stream",
     "text": [
      "Nandish\n",
      "19\n",
      "Nandish\n"
     ]
    }
   ],
   "source": [
    "#Q3\n",
    "\n",
    "class Person:\n",
    "    name = 'Nandish'\n",
    "    age = 19\n",
    "\n",
    "per1 = Person()\n",
    "print(per1.name) \n",
    "per2 = Person()\n",
    "print(per2.age)  \n",
    "\n",
    "print(per1.name)\n",
    "\n",
    "del per1\n",
    "del per2"
   ]
  },
  {
   "cell_type": "code",
   "execution_count": 23,
   "id": "2f71ee15",
   "metadata": {},
   "outputs": [
    {
     "name": "stdout",
     "output_type": "stream",
     "text": [
      "Hello, I am a Nandish.\n"
     ]
    }
   ],
   "source": [
    "class MyClass:\n",
    "    def dis(self):\n",
    "        print(\"Hello, I am a Nandish.\")\n",
    "\n",
    "obj = MyClass()\n",
    "obj.dis()"
   ]
  }
 ],
 "metadata": {
  "kernelspec": {
   "display_name": "base",
   "language": "python",
   "name": "python3"
  },
  "language_info": {
   "codemirror_mode": {
    "name": "ipython",
    "version": 3
   },
   "file_extension": ".py",
   "mimetype": "text/x-python",
   "name": "python",
   "nbconvert_exporter": "python",
   "pygments_lexer": "ipython3",
   "version": "3.13.5"
  }
 },
 "nbformat": 4,
 "nbformat_minor": 5
}
