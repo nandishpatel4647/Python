{
 "cells": [
  {
   "cell_type": "code",
   "execution_count": 10,
   "id": "967a83d4",
   "metadata": {},
   "outputs": [
    {
     "name": "stdout",
     "output_type": "stream",
     "text": [
      "Second fruit: Banana\n",
      "Last fruit: Grapes\n",
      "['Apple', 'Banana', 'Cherry', 'Orange', 'Grapes', 'Mango']\n",
      "['Banana', 'Cherry', 'Orange', 'Grapes', 'Mango']\n",
      "['Banana', 'Cherry', 'Grapes', 'Mango', 'Orange']\n",
      "['Orange', 'Mango', 'Grapes', 'Cherry', 'Banana']\n",
      "Final list: ['Orange', 'Mango', 'Grapes', 'Cherry', 'Banana']\n"
     ]
    }
   ],
   "source": [
    "#1\n",
    "fruits = [\"Apple\", \"Banana\", \"Cherry\", \"Orange\", \"Grapes\"]\n",
    "\n",
    "print(\"Second fruit:\", fruits[1])\n",
    "print(\"Last fruit:\", fruits[4])\n",
    "\n",
    "fruits.append(\"Mango\")\n",
    "print(fruits)\n",
    "\n",
    "fruits.pop(0)\n",
    "print(fruits)\n",
    "\n",
    "fruits.sort()\n",
    "print(fruits)\n",
    "\n",
    "fruits.reverse()\n",
    "print(fruits)\n",
    "\n",
    "print(\"Final list:\", fruits)\n"
   ]
  },
  {
   "cell_type": "code",
   "execution_count": null,
   "id": "389ac477",
   "metadata": {},
   "outputs": [
    {
     "name": "stdout",
     "output_type": "stream",
     "text": [
      "Third item: 30\n",
      "Error: 'tuple' object does not support item assignment\n",
      "Explanation: Tuples are immutable, meaning their elements cannot be changed once created.\n"
     ]
    }
   ],
   "source": [
    "#2 \n",
    "\n",
    "numbers = (10, 20, 30, 40, 50)\n",
    "\n",
    "print(\"Third item:\", numbers[2])\n",
    "\n",
    "try:\n",
    "    numbers[1] = 25\n",
    "except TypeError as e:\n",
    "    print(\"Error:\", e)\n",
    "    print(\"Explanation: Tuples are immutable, meaning their elements cannot be changed once created.\")\n"
   ]
  },
  {
   "cell_type": "code",
   "execution_count": null,
   "id": "0255ce1e",
   "metadata": {},
   "outputs": [
    {
     "name": "stdout",
     "output_type": "stream",
     "text": [
      "Updated list: [100, 2, 3]\n",
      "Error: 'tuple' object does not support item assignment\n",
      "Explanation: Lists are mutable, meaning their elements can be changed.\n",
      "Tuples are immutable, meaning once created, their elements cannot be modified.\n"
     ]
    }
   ],
   "source": [
    "#3\n",
    "\n",
    "my_list = [1, 2, 3]\n",
    "my_tuple = (1, 2, 3)\n",
    "\n",
    "my_list[0] = 100\n",
    "print(\"Updated list:\", my_list)\n",
    "\n",
    "try:\n",
    "    my_tuple[0] = 100\n",
    "except TypeError as e:\n",
    "    print(\"Error:\", e)\n",
    "\n",
    "print(\"Explanation: Lists are mutable, meaning their elements can be changed.\")\n",
    "print(\"Tuples are immutable, meaning once created, their elements cannot be modified.\")\n"
   ]
  },
  {
   "cell_type": "code",
   "execution_count": 15,
   "id": "9260abc5",
   "metadata": {},
   "outputs": [
    {
     "name": "stdout",
     "output_type": "stream",
     "text": [
      "Squares: [1, 4, 9, 16, 25, 36, 49, 64, 81, 100]\n",
      "Even numbers: [2, 4, 6, 8, 10, 12, 14, 16, 18, 20]\n",
      "Lowercase words: ['hello', 'world', 'python']\n"
     ]
    }
   ],
   "source": [
    "#4\n",
    " \n",
    "squares = [x**2 for x in range(1, 11)]\n",
    "print(\"Squares:\", squares)\n",
    "\n",
    "evens = [x for x in range(1, 21) if x % 2 == 0]\n",
    "print(\"Even numbers:\", evens)\n",
    "\n",
    "words = [\"hello\", \"WORLD\", \"PyThOn\"]\n",
    "lowercase_words = [word.lower() for word in words]\n",
    "print(\"Lowercase words:\", lowercase_words)\n"
   ]
  }
 ],
 "metadata": {
  "kernelspec": {
   "display_name": "base",
   "language": "python",
   "name": "python3"
  },
  "language_info": {
   "codemirror_mode": {
    "name": "ipython",
    "version": 3
   },
   "file_extension": ".py",
   "mimetype": "text/x-python",
   "name": "python",
   "nbconvert_exporter": "python",
   "pygments_lexer": "ipython3",
   "version": "3.13.5"
  }
 },
 "nbformat": 4,
 "nbformat_minor": 5
}
