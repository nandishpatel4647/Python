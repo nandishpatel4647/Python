{
 "cells": [
  {
   "cell_type": "code",
   "execution_count": 5,
   "id": "a3cadc0c",
   "metadata": {},
   "outputs": [
    {
     "name": "stdout",
     "output_type": "stream",
     "text": [
      "Demonstrating 'sep':\n",
      "Python ohh is\n",
      "\n"
     ]
    }
   ],
   "source": [
    "print(\"Demonstrating 'sep':\")\n",
    "print(\"Python\", \"is\",sep=\" ohh \")\n",
    "print() "
   ]
  },
  {
   "cell_type": "code",
   "execution_count": 6,
   "id": "abd673a5",
   "metadata": {},
   "outputs": [
    {
     "name": "stdout",
     "output_type": "stream",
     "text": [
      "Demonstrating 'end':\n",
      "Loading...Please wait!\n"
     ]
    }
   ],
   "source": [
    "print(\"Demonstrating 'end':\")\n",
    "print(\"Loading\", end=\"...\")\n",
    "print(\"Please wait\", end=\"!\\n\")"
   ]
  },
  {
   "cell_type": "code",
   "execution_count": 7,
   "id": "ea07e57f",
   "metadata": {},
   "outputs": [
    {
     "name": "stdout",
     "output_type": "stream",
     "text": [
      "Hello, Nandish! At 18, enjoying Piano sounds fun!\n"
     ]
    }
   ],
   "source": [
    "# Ask the user for their details\n",
    "name = input(\"Enter your name: \")\n",
    "age = input(\"Enter your age: \")\n",
    "hobby = input(\"Enter your favourite hobby: \")\n",
    "\n",
    "print(f\"Hello, {name}! At {age}, enjoying {hobby} sounds fun!\")\n"
   ]
  },
  {
   "cell_type": "code",
   "execution_count": null,
   "id": "3dd74d06",
   "metadata": {},
   "outputs": [
    {
     "name": "stdout",
     "output_type": "stream",
     "text": [
      "\n",
      "Addition:  22.0\n",
      "Subtraction: 10.0 - 12.0 = -2.0\n",
      "Multiplication: 10.0 * 12.0 = 120.0\n",
      "Division: 10.0 / 12.0 = 0.8333333333333334\n",
      "Floor Division: 10 // 12 = 0\n",
      "Modulus: 10 % 12 = 10\n",
      "Exponentiation: 10.0 ** 12.0 = 1000000000000.0\n"
     ]
    }
   ],
   "source": [
    "# Get two numbers from the user\n",
    "num1 = float(input(\"Enter the first number: \"))\n",
    "num2 = float(input(\"Enter the second number: \"))\n",
    "\n",
    "print(f\"\\nAddition: \",num1 + num2)\n",
    "print(f\"Subtraction: {num1 - num2}\")\n",
    "print(f\"Multiplication: {num1 * num2}\")\n",
    "print(f\"Division: {num1 / num2}\")\n",
    "print(f\"Floor Division: {int(num1) // int(num2)}\")\n",
    "print(f\"Modulus: {int(num1) % int(num2)}\")\n",
    "print(f\"Exponentiation: {num1 ** num2}\")\n"
   ]
  },
  {
   "cell_type": "code",
   "execution_count": 17,
   "id": "0ec28f3b",
   "metadata": {},
   "outputs": [
    {
     "name": "stdout",
     "output_type": "stream",
     "text": [
      "Hello World\n",
      "<class 'str'>\n",
      "20\n",
      "<class 'int'>\n",
      "20.5\n",
      "<class 'float'>\n",
      "True\n",
      "<class 'bool'>\n",
      "1j\n",
      "<class 'complex'>\n"
     ]
    }
   ],
   "source": [
    "x = str(\"Hello World\")\n",
    "print(x)\n",
    "print(type(x)) \n",
    "\n",
    "\n",
    "x = int(20)\n",
    "print(x)\n",
    "print(type(x)) \n",
    "\n",
    "\n",
    "x = float(20.5)\n",
    "print(x)\n",
    "print(type(x))\n",
    "\n",
    "\n",
    "x = bool(5)\n",
    "print(x)\n",
    "print(type(x)) \n",
    "\n",
    "\n",
    "\n",
    "x = complex(1j)\n",
    "print(x)\n",
    "print(type(x)) \n",
    "\n",
    "\n"
   ]
  },
  {
   "cell_type": "code",
   "execution_count": 18,
   "id": "28353e27",
   "metadata": {},
   "outputs": [
    {
     "name": "stdout",
     "output_type": "stream",
     "text": [
      "\n",
      "Your height is 157 cm and your weight is 60 kg.\n"
     ]
    }
   ],
   "source": [
    "# Get user input for height and weight\n",
    "height = input(\"Enter your height (in cm): \")\n",
    "weight = input(\"Enter your weight (in kg): \")\n",
    "\n",
    "print(f\"\\nYour height is {height} cm and your weight is {weight} kg.\")\n"
   ]
  },
  {
   "cell_type": "code",
   "execution_count": 6,
   "id": "814f93d1",
   "metadata": {},
   "outputs": [
    {
     "name": "stdout",
     "output_type": "stream",
     "text": [
      "After += 5: 10\n",
      "After -= 3: 2\n",
      "After *= 2: 10\n",
      "After /= 4: 1\n"
     ]
    }
   ],
   "source": [
    "# Initialize variable using '='\n",
    "orginal=int(input(\"Enter a Number: \"))\n",
    "num = orginal\n",
    "num += 5\n",
    "print(f\"After += 5: {num}\")\n",
    "\n",
    "num = orginal\n",
    "num -= 3\n",
    "print(f\"After -= 3: {num}\")\n",
    "\n",
    "num = orginal\n",
    "num *= 2\n",
    "print(f\"After *= 2: {num}\")\n",
    "\n",
    "num = orginal\n",
    "num //= 4\n",
    "print(f\"After /= 4: {num}\")\n"
   ]
  }
 ],
 "metadata": {
  "kernelspec": {
   "display_name": "base",
   "language": "python",
   "name": "python3"
  },
  "language_info": {
   "codemirror_mode": {
    "name": "ipython",
    "version": 3
   },
   "file_extension": ".py",
   "mimetype": "text/x-python",
   "name": "python",
   "nbconvert_exporter": "python",
   "pygments_lexer": "ipython3",
   "version": "3.13.5"
  }
 },
 "nbformat": 4,
 "nbformat_minor": 5
}
