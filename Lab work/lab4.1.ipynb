{
 "cells": [
  {
   "cell_type": "code",
   "execution_count": 13,
   "id": "a7f16950",
   "metadata": {},
   "outputs": [
    {
     "name": "stdout",
     "output_type": "stream",
     "text": [
      "Length: 3\n",
      "Maximum: 15\n",
      "Sorted: [8, 10, 15]\n",
      "Sum: 33\n",
      "Type: <class 'list'>\n"
     ]
    }
   ],
   "source": [
    "#Q1 Write a Python program that uses at least five built-in functions\n",
    "\n",
    "numbers = [10, 15, 8]\n",
    "\n",
    "print(\"Length:\", len(numbers))\n",
    "print(\"Maximum:\", max(numbers))\n",
    "print(\"Sorted:\", sorted(numbers))\n",
    "print(\"Sum:\", sum(numbers))\n",
    "print(\"Type:\", type(numbers))"
   ]
  },
  {
   "cell_type": "code",
   "execution_count": 3,
   "id": "079a89fe",
   "metadata": {},
   "outputs": [
    {
     "name": "stdout",
     "output_type": "stream",
     "text": [
      "Factorial: 120\n"
     ]
    }
   ],
   "source": [
    "#Q2 Create a user-defined function (UDF) that calculates the factorial of a given number.\n",
    "\n",
    "def factorial(n):\n",
    "    result = 1\n",
    "    for i in range(1, n+1):\n",
    "        result *= i\n",
    "    return result\n",
    "\n",
    "num = int(input(\"Enter a number: \"))\n",
    "print(\"Factorial:\", factorial(num))"
   ]
  },
  {
   "cell_type": "code",
   "execution_count": 13,
   "id": "9e903aa8",
   "metadata": {},
   "outputs": [
    {
     "name": "stdout",
     "output_type": "stream",
     "text": [
      "Squares: [4, 9, 16]\n"
     ]
    }
   ],
   "source": [
    "#Q3 Implement a program where a UDF accepts a list of integers and returns the square of each integer in a new list using a list comprehension.\n",
    "\n",
    "def square_list(nums):\n",
    "    return [x**2 for x in nums]\n",
    "\n",
    "numbers = [2, 3, 4,]\n",
    "print(\"Squares:\", square_list(numbers))"
   ]
  },
  {
   "cell_type": "code",
   "execution_count": 5,
   "id": "72cc74a1",
   "metadata": {},
   "outputs": [
    {
     "name": "stdout",
     "output_type": "stream",
     "text": [
      "Character Frequency: {'2': 2}\n"
     ]
    }
   ],
   "source": [
    "#Q4 Write a UDF that takes a string as input and returns the frequency of each character in the string as a dictionary.\n",
    "\n",
    "def char_frequency(s):\n",
    "    freq = {}\n",
    "    for ch in s:\n",
    "        freq[ch] = s.count(ch)\n",
    "    return freq\n",
    "\n",
    "text = input(\"Enter a string: \")\n",
    "print(\"Character Frequency:\", char_frequency(text))"
   ]
  },
  {
   "cell_type": "code",
   "execution_count": 14,
   "id": "7e028cb0",
   "metadata": {},
   "outputs": [
    {
     "name": "stdout",
     "output_type": "stream",
     "text": [
      "Cubes: [27, 125]\n"
     ]
    }
   ],
   "source": [
    "#Q5 Create a program that takes a user-defined function as an argument to calculate the cube of a list of numbers.\n",
    "\n",
    "def cube(n):\n",
    "    return n**3\n",
    "\n",
    "def apply_function(func, numbers):\n",
    "    result = []\n",
    "    for num in numbers:\n",
    "        result.append(func(num))\n",
    "    return result\n",
    "\n",
    "nums = [3, 5,]\n",
    "print(\"Cubes:\", apply_function(cube, nums))"
   ]
  },
  {
   "cell_type": "code",
   "execution_count": 15,
   "id": "cc4e418f",
   "metadata": {},
   "outputs": [
    {
     "name": "stdout",
     "output_type": "stream",
     "text": [
      "(5, 6)\n"
     ]
    }
   ],
   "source": [
    "#Q6 Write a Python function that accepts an arbitrary number of integer arguments and returns their sum and product.\n",
    "\n",
    "def sum_and_product(*nums):\n",
    "    s = 0\n",
    "    p = 1\n",
    "    for n in nums:\n",
    "        s += n\n",
    "        p *= n\n",
    "    return s, p\n",
    "\n",
    "print(sum_and_product(2, 3,))"
   ]
  },
  {
   "cell_type": "code",
   "execution_count": null,
   "id": "35f02708",
   "metadata": {},
   "outputs": [
    {
     "name": "stdout",
     "output_type": "stream",
     "text": [
      "Nandish\n",
      "Krishna\n",
      "Jeel\n",
      "No student names provided.\n"
     ]
    }
   ],
   "source": [
    "#Q7 Implement a function that takes a list of student names using \n",
    "\n",
    "def print_students(*names):\n",
    "    if not names:\n",
    "        print(\"No student names provided.\")\n",
    "    else:\n",
    "        for name in names:\n",
    "            print(name)\n",
    "\n",
    "print_students(\"Nandish\", \"Krishna\", \"Jeel\")\n",
    "print_students()"
   ]
  },
  {
   "cell_type": "code",
   "execution_count": 12,
   "id": "b970cfd0",
   "metadata": {},
   "outputs": [
    {
     "name": "stdout",
     "output_type": "stream",
     "text": [
      "Strings: ('apple', 'banana', 'cherry')\n",
      "Numbers: (10, 3.5, 42)\n"
     ]
    }
   ],
   "source": [
    "#Q8 #Q8 Develop a program where a UDF accepts\n",
    "\n",
    "def filter_args(*args):\n",
    "    strings = tuple(x for x in args if isinstance(x, str))\n",
    "    numbers = tuple(x for x in args if isinstance(x, (int, float)))\n",
    "    return strings, numbers\n",
    "\n",
    "result = filter_args(10, \"apple\", 3.5, \"banana\", 42, \"cherry\")\n",
    "print(\"Strings:\", result[0])\n",
    "print(\"Numbers:\", result[1])"
   ]
  },
  {
   "cell_type": "code",
   "execution_count": null,
   "id": "e6944cb3",
   "metadata": {},
   "outputs": [
    {
     "name": "stdout",
     "output_type": "stream",
     "text": [
      "name: Nandish\n",
      "age: 18\n",
      "city: Ahmedabad\n"
     ]
    }
   ],
   "source": [
    "#Q9 Write a function that accepts\n",
    "\n",
    "def describe_person(**kwargs):\n",
    "    for key, value in kwargs.items():\n",
    "        print(f\"{key}: {value}\")\n",
    "\n",
    "describe_person(name=\"Nandish\", age=18, city=\"Ahmedabad\")"
   ]
  },
  {
   "cell_type": "code",
   "execution_count": null,
   "id": "c58446b5",
   "metadata": {},
   "outputs": [
    {
     "name": "stdout",
     "output_type": "stream",
     "text": [
      "Product: Mobile, Total Cost = 5000\n"
     ]
    }
   ],
   "source": [
    "#Q10 Implement a function that accepts product details like name, price, and quantity using **kwargs.\n",
    "\n",
    "def product_details(**kwargs):\n",
    "    total = kwargs[\"price\"] * kwargs[\"quantity\"]\n",
    "    return f\"Product: {kwargs['name']}, Total Cost = {total}\"\n",
    "\n",
    "print(product_details(name=\"Mobile\", price=1000, quantity=5))"
   ]
  },
  {
   "cell_type": "code",
   "execution_count": null,
   "id": "993e77ac",
   "metadata": {},
   "outputs": [
    {
     "name": "stdout",
     "output_type": "stream",
     "text": [
      "name: Nandish\n",
      "department: IT\n",
      "salary: 100000\n",
      "Missing required field: department\n"
     ]
    }
   ],
   "source": [
    "#Q11 Develop a program that allows users to pass any combination of attributes for an employee (e.g., name, department, salary) using **kwargs.\n",
    "\n",
    "def employee_details(**kwargs):\n",
    "    required = [\"name\", \"department\", \"salary\"]\n",
    "    for field in required:\n",
    "        if field not in kwargs:\n",
    "            print(f\"Missing required field: {field}\")\n",
    "            return\n",
    "    for key, value in kwargs.items():\n",
    "        print(f\"{key}: {value}\")\n",
    "\n",
    "employee_details(name=\"Nandish\", department=\"IT\", salary=100000)\n",
    "employee_details(name=\"Kavya\", salary=50000)"
   ]
  },
  {
   "cell_type": "code",
   "execution_count": 10,
   "id": "94489362",
   "metadata": {},
   "outputs": [
    {
     "name": "stdout",
     "output_type": "stream",
     "text": [
      "Area: 15\n"
     ]
    }
   ],
   "source": [
    "#Q12 Create a function that calculates the area of a rectangle.\n",
    "\n",
    "def rectangle_area(length, width):\n",
    "    \n",
    "    return length * width\n",
    "\n",
    "\n",
    "print(\"Area:\", rectangle_area(5, 3))"
   ]
  },
  {
   "cell_type": "code",
   "execution_count": 7,
   "id": "639893d4",
   "metadata": {},
   "outputs": [
    {
     "name": "stdout",
     "output_type": "stream",
     "text": [
      "[0, 1, 1, 2, 3]\n"
     ]
    }
   ],
   "source": [
    "#Q13\n",
    "\n",
    "def fibonacci_upto(n):\n",
    "    \"\"\"Return Fibonacci sequence up to n as a list.\"\"\"\n",
    "    a, b = 0, 1\n",
    "    seq = []\n",
    "    while a <= n:\n",
    "        seq.append(a)\n",
    "        a, b = b, a + b\n",
    "    return seq\n",
    "\n",
    "limit = int(input(\"Enter a number: \"))\n",
    "print(fibonacci_upto(limit))"
   ]
  }
 ],
 "metadata": {
  "kernelspec": {
   "display_name": "base",
   "language": "python",
   "name": "python3"
  },
  "language_info": {
   "codemirror_mode": {
    "name": "ipython",
    "version": 3
   },
   "file_extension": ".py",
   "mimetype": "text/x-python",
   "name": "python",
   "nbconvert_exporter": "python",
   "pygments_lexer": "ipython3",
   "version": "3.13.5"
  }
 },
 "nbformat": 4,
 "nbformat_minor": 5
}
