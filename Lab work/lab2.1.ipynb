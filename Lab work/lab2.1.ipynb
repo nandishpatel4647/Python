{
 "cells": [
  {
   "cell_type": "code",
   "execution_count": 2,
   "id": "8a9f4061",
   "metadata": {},
   "outputs": [
    {
     "name": "stdout",
     "output_type": "stream",
     "text": [
      "12 is even\n"
     ]
    }
   ],
   "source": [
    "# 1:\n",
    "try:\n",
    "    n = int(input(\"Enter an integer: \")) \n",
    "    if n % 2 == 0:\n",
    "        print(f\"{n} is even\")\n",
    "    else:\n",
    "        print(f\"{n} is odd\")\n",
    "except ValueError:\n",
    "    print(\"Please enter a valid integer.\")"
   ]
  },
  {
   "cell_type": "code",
   "execution_count": null,
   "id": "b2169f3b",
   "metadata": {},
   "outputs": [
    {
     "name": "stdout",
     "output_type": "stream",
     "text": [
      "Teenager (13-19)\n"
     ]
    }
   ],
   "source": [
    "#2\n",
    "age = int(input(\"Enter your age: \"))\n",
    "\n",
    "if age >= 0:\n",
    "    if age <= 12:\n",
    "            print(\"Child (0-12)\")\n",
    "    else:\n",
    "        if age <= 19:\n",
    "                print(\"Teenager (13-19)\")\n",
    "        else:\n",
    "            if age <= 59:\n",
    "                    print(\"Adult (20-59)\")\n",
    "            else:\n",
    "                    print(\"Senior (60+)\")\n",
    "else:\n",
    "        print(\"Invalid age\")\n"
   ]
  },
  {
   "cell_type": "code",
   "execution_count": 9,
   "id": "fad62a58",
   "metadata": {},
   "outputs": [
    {
     "name": "stdout",
     "output_type": "stream",
     "text": [
      "Largest number is: 22\n"
     ]
    }
   ],
   "source": [
    "#3\n",
    "\n",
    "\n",
    "a = int(input(\"Enter first integer: \"))\n",
    "b = int(input(\"Enter second integer: \"))\n",
    "c = int(input(\"Enter third integer: \"))\n",
    "\n",
    "if a >= b and a >= c:\n",
    "        largest = a\n",
    "elif b >= a and b >= c:\n",
    "        largest = b\n",
    "else:\n",
    "        largest = c\n",
    "\n",
    "print(\"Largest number is:\", largest)"
   ]
  },
  {
   "cell_type": "code",
   "execution_count": 14,
   "id": "b5efa789",
   "metadata": {},
   "outputs": [
    {
     "name": "stdout",
     "output_type": "stream",
     "text": [
      "Not neutral — it's negative.\n"
     ]
    }
   ],
   "source": [
    "#4\n",
    "\n",
    "num = float(input(\"Enter a number: \"))\n",
    "\n",
    "if num > 0:\n",
    "        print(\"Not neutral — it's positive.\")\n",
    "elif num == 0:\n",
    "        print(\"Neutral number (zero).\")\n",
    "else:\n",
    "        print(\"Not neutral — it's negative.\")\n"
   ]
  }
 ],
 "metadata": {
  "kernelspec": {
   "display_name": "base",
   "language": "python",
   "name": "python3"
  },
  "language_info": {
   "codemirror_mode": {
    "name": "ipython",
    "version": 3
   },
   "file_extension": ".py",
   "mimetype": "text/x-python",
   "name": "python",
   "nbconvert_exporter": "python",
   "pygments_lexer": "ipython3",
   "version": "3.13.5"
  }
 },
 "nbformat": 4,
 "nbformat_minor": 5
}
