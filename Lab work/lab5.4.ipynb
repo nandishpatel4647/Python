{
 "cells": [
  {
   "cell_type": "code",
   "execution_count": 1,
   "id": "07975bee",
   "metadata": {},
   "outputs": [
    {
     "name": "stdout",
     "output_type": "stream",
     "text": [
      "(3, 4)\n"
     ]
    }
   ],
   "source": [
    "#Q1\n",
    "\n",
    "class Point:\n",
    "    def __init__(self, x, y): self.x, self.y = x, y\n",
    "    def __str__(self): return f\"({self.x}, {self.y})\"\n",
    "\n",
    "p = Point(3, 4)\n",
    "print(p)\n"
   ]
  },
  {
   "cell_type": "code",
   "execution_count": 2,
   "id": "ae8002d6",
   "metadata": {},
   "outputs": [
    {
     "name": "stdout",
     "output_type": "stream",
     "text": [
      "3\n"
     ]
    }
   ],
   "source": [
    "#Q2\n",
    "\n",
    "class Sentence:\n",
    "    def __init__(self, text): self.text = text\n",
    "    def __len__(self): return len(self.text.split())\n",
    "\n",
    "s = Sentence(\"Python is fun\")\n",
    "print(len(s))\n"
   ]
  },
  {
   "cell_type": "code",
   "execution_count": 3,
   "id": "ad376cd8",
   "metadata": {},
   "outputs": [
    {
     "name": "stdout",
     "output_type": "stream",
     "text": [
      "True\n"
     ]
    }
   ],
   "source": [
    "#Q3\n",
    "\n",
    "class Rectangle:\n",
    "    def __init__(self, l, b): self.l, self.b = l, b\n",
    "    def area(self): return self.l * self.b\n",
    "    def __lt__(self, other): return self.area() < other.area()\n",
    "\n",
    "r1, r2 = Rectangle(2, 5), Rectangle(3, 4)\n",
    "print(r1 < r2)\n"
   ]
  },
  {
   "cell_type": "code",
   "execution_count": 4,
   "id": "f037f74b",
   "metadata": {},
   "outputs": [
    {
     "name": "stdout",
     "output_type": "stream",
     "text": [
      "20\n",
      "99\n"
     ]
    }
   ],
   "source": [
    "#Q4\n",
    "\n",
    "class Box:\n",
    "    def __init__(self, items): self.items = items\n",
    "    def __getitem__(self, i): return self.items[i]\n",
    "    def __setitem__(self, i, v): self.items[i] = v\n",
    "\n",
    "b = Box([10, 20, 30])\n",
    "print(b[1])   # access\n",
    "b[1] = 99\n",
    "print(b[1])\n"
   ]
  },
  {
   "cell_type": "code",
   "execution_count": 5,
   "id": "1d5b47ac",
   "metadata": {},
   "outputs": [
    {
     "name": "stdout",
     "output_type": "stream",
     "text": [
      "BankAccount(name='Alex', balance=5000)\n"
     ]
    }
   ],
   "source": [
    "#Q5\n",
    "\n",
    "class BankAccount:\n",
    "    def __init__(self, name, bal): self.name, self.bal = name, bal\n",
    "    def __repr__(self): return f\"BankAccount(name='{self.name}', balance={self.bal})\"\n",
    "\n",
    "acc = BankAccount(\"Alex\", 5000)\n",
    "print(repr(acc))\n"
   ]
  },
  {
   "cell_type": "code",
   "execution_count": 6,
   "id": "d16bf678",
   "metadata": {},
   "outputs": [
    {
     "name": "stdout",
     "output_type": "stream",
     "text": [
      "(4, 6)\n"
     ]
    }
   ],
   "source": [
    "#Q6\n",
    "\n",
    "class Vector:\n",
    "    def __init__(self, x, y): self.x, self.y = x, y\n",
    "    def __add__(self, o): return Vector(self.x+o.x, self.y+o.y)\n",
    "    def __str__(self): return f\"({self.x}, {self.y})\"\n",
    "\n",
    "v1, v2 = Vector(1, 2), Vector(3, 4)\n",
    "print(v1 + v2)\n"
   ]
  },
  {
   "cell_type": "code",
   "execution_count": 7,
   "id": "df3a12c5",
   "metadata": {},
   "outputs": [
    {
     "name": "stdout",
     "output_type": "stream",
     "text": [
      "-10+11i\n"
     ]
    }
   ],
   "source": [
    "#Q7\n",
    "\n",
    "class ComplexNumber:\n",
    "    def __init__(self, r, i): self.r, self.i = r, i\n",
    "    def __mul__(self, o): return ComplexNumber(self.r*o.r - self.i*o.i, self.r*o.i + self.i*o.r)\n",
    "    def __str__(self): return f\"{self.r}+{self.i}i\"\n",
    "\n",
    "c1, c2 = ComplexNumber(2, 3), ComplexNumber(1, 4)\n",
    "print(c1 * c2)\n"
   ]
  },
  {
   "cell_type": "code",
   "execution_count": 8,
   "id": "8a60ff16",
   "metadata": {},
   "outputs": [
    {
     "name": "stdout",
     "output_type": "stream",
     "text": [
      "True\n"
     ]
    }
   ],
   "source": [
    "#Q8\n",
    "\n",
    "class Time:\n",
    "    def __init__(self, h, m): self.h, self.m = h, m\n",
    "    def __gt__(self, o): return (self.h, self.m) > (o.h, o.m)\n",
    "\n",
    "t1, t2 = Time(5, 30), Time(4, 45)\n",
    "print(t1 > t2)\n"
   ]
  },
  {
   "cell_type": "code",
   "execution_count": 9,
   "id": "03366967",
   "metadata": {},
   "outputs": [
    {
     "name": "stdout",
     "output_type": "stream",
     "text": [
      "Python: 400\n"
     ]
    }
   ],
   "source": [
    "#Q9\n",
    "\n",
    "class Book:\n",
    "    def __init__(self, t, p): self.t, self.p = t, p\n",
    "    def __sub__(self, d): return Book(self.t, self.p - d)\n",
    "    def __str__(self): return f\"{self.t}: {self.p}\"\n",
    "\n",
    "b = Book(\"Python\", 500)\n",
    "print(b - 100)\n"
   ]
  },
  {
   "cell_type": "code",
   "execution_count": 10,
   "id": "91e4b381",
   "metadata": {},
   "outputs": [
    {
     "name": "stdout",
     "output_type": "stream",
     "text": [
      "[4, 5, 6]\n"
     ]
    }
   ],
   "source": [
    "#Q10\n",
    "\n",
    "class Matrix:\n",
    "    def __init__(self, data): self.data = data\n",
    "    def __getitem__(self, i): return self.data[i]\n",
    "\n",
    "m = Matrix([[1,2,3],[4,5,6],[7,8,9]])\n",
    "print(m[1])\n"
   ]
  }
 ],
 "metadata": {
  "kernelspec": {
   "display_name": "base",
   "language": "python",
   "name": "python3"
  },
  "language_info": {
   "codemirror_mode": {
    "name": "ipython",
    "version": 3
   },
   "file_extension": ".py",
   "mimetype": "text/x-python",
   "name": "python",
   "nbconvert_exporter": "python",
   "pygments_lexer": "ipython3",
   "version": "3.13.5"
  }
 },
 "nbformat": 4,
 "nbformat_minor": 5
}
