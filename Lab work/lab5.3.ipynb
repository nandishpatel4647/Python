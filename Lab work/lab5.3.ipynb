{
 "cells": [
  {
   "cell_type": "code",
   "execution_count": 1,
   "id": "64a6b5d5",
   "metadata": {},
   "outputs": [
    {
     "name": "stdout",
     "output_type": "stream",
     "text": [
      "5\n",
      "Hello World\n"
     ]
    }
   ],
   "source": [
    "#q1\n",
    "\n",
    "def add(a, b):\n",
    "    return a + b\n",
    "\n",
    "print(add(2, 3))\n",
    "print(add(\"Hello \", \"World\"))"
   ]
  },
  {
   "cell_type": "code",
   "execution_count": 2,
   "id": "484b3285",
   "metadata": {},
   "outputs": [
    {
     "name": "stdout",
     "output_type": "stream",
     "text": [
      "78.5\n",
      "24\n"
     ]
    }
   ],
   "source": [
    "#Q2\n",
    "\n",
    "class Shape:\n",
    "    def area(self): pass\n",
    "class Circle(Shape):\n",
    "    def area(self): return 3.14*5*5\n",
    "class Rectangle(Shape):\n",
    "    def area(self): return 4*6\n",
    "\n",
    "print(Circle().area())\n",
    "print(Rectangle().area())\n"
   ]
  },
  {
   "cell_type": "code",
   "execution_count": 3,
   "id": "367a671b",
   "metadata": {},
   "outputs": [
    {
     "name": "stdout",
     "output_type": "stream",
     "text": [
      "5\n",
      "4\n",
      "2\n"
     ]
    }
   ],
   "source": [
    "#Q3\n",
    "\n",
    "print(len(\"Hello\"))\n",
    "print(len([1,2,3,4]))\n",
    "print(len({\"a\":1,\"b\":2}))\n"
   ]
  },
  {
   "cell_type": "code",
   "execution_count": 4,
   "id": "c7070415",
   "metadata": {},
   "outputs": [
    {
     "name": "stdout",
     "output_type": "stream",
     "text": [
      "Traveling by Train\n",
      "Traveling by Plane\n"
     ]
    }
   ],
   "source": [
    "#Q4\n",
    "\n",
    "class Transport: \n",
    "    def travel(self): pass\n",
    "class Train(Transport): \n",
    "    def travel(self): print(\"Traveling by Train\")\n",
    "class Plane(Transport): \n",
    "    def travel(self): print(\"Traveling by Plane\")\n",
    "\n",
    "Train().travel()\n",
    "Plane().travel()\n"
   ]
  },
  {
   "cell_type": "code",
   "execution_count": 5,
   "id": "54290188",
   "metadata": {},
   "outputs": [
    {
     "name": "stdout",
     "output_type": "stream",
     "text": [
      "6\n",
      "24\n"
     ]
    }
   ],
   "source": [
    "#Q5\n",
    "\n",
    "class Calculator:\n",
    "    def multiply(self,a,b,c=1): return a*b*c\n",
    "\n",
    "print(Calculator().multiply(2,3))\n",
    "print(Calculator().multiply(2,3,4))\n"
   ]
  },
  {
   "cell_type": "code",
   "execution_count": 6,
   "id": "943a1514",
   "metadata": {},
   "outputs": [
    {
     "name": "stdout",
     "output_type": "stream",
     "text": [
      "Bark\n",
      "Meow\n"
     ]
    }
   ],
   "source": [
    "#Q6\n",
    "\n",
    "class Animal:\n",
    "    def speak(self): print(\"Animal sound\")\n",
    "class Dog(Animal):\n",
    "    def speak(self): print(\"Bark\")\n",
    "class Cat(Animal):\n",
    "    def speak(self): print(\"Meow\")\n",
    "\n",
    "Dog().speak()\n",
    "Cat().speak()\n"
   ]
  },
  {
   "cell_type": "code",
   "execution_count": 7,
   "id": "f4246178",
   "metadata": {},
   "outputs": [
    {
     "name": "stdout",
     "output_type": "stream",
     "text": [
      "28.259999999999998\n",
      "20\n"
     ]
    }
   ],
   "source": [
    "#Q7\n",
    "\n",
    "class Shape:\n",
    "    @staticmethod\n",
    "    def area(r=None,l=None,w=None):\n",
    "        if r: return 3.14*r*r\n",
    "        else: return l*w\n",
    "\n",
    "print(Shape.area(r=3))\n",
    "print(Shape.area(l=4,w=5))\n"
   ]
  },
  {
   "cell_type": "code",
   "execution_count": 8,
   "id": "dc5bcffc",
   "metadata": {},
   "outputs": [
    {
     "name": "stdout",
     "output_type": "stream",
     "text": [
      "Bike starting\n",
      "Car starting\n"
     ]
    }
   ],
   "source": [
    "#Q8\n",
    "\n",
    "class Vehicle:\n",
    "    def start(self): print(\"Vehicle starting\")\n",
    "class Bike(Vehicle):\n",
    "    def start(self): print(\"Bike starting\")\n",
    "class Car(Vehicle):\n",
    "    def start(self): print(\"Car starting\")\n",
    "\n",
    "Bike().start()\n",
    "Car().start()\n"
   ]
  },
  {
   "cell_type": "code",
   "execution_count": 9,
   "id": "ee1ff812",
   "metadata": {},
   "outputs": [
    {
     "name": "stdout",
     "output_type": "stream",
     "text": [
      "Hello\n",
      "10\n",
      "Hi 100\n"
     ]
    }
   ],
   "source": [
    "#Q9\n",
    "\n",
    "class Printer:\n",
    "    def print(self,a=None,b=None):\n",
    "        if a and b: print(a,b)\n",
    "        elif a: print(a)\n",
    "        else: print(\"Nothing\")\n",
    "\n",
    "Printer().print(\"Hello\")\n",
    "Printer().print(10)\n",
    "Printer().print(\"Hi\",100)\n"
   ]
  },
  {
   "cell_type": "code",
   "execution_count": 10,
   "id": "16ceba83",
   "metadata": {},
   "outputs": [
    {
     "name": "stdout",
     "output_type": "stream",
     "text": [
      "True\n"
     ]
    }
   ],
   "source": [
    "#Q10\n",
    "\n",
    "class Person: pass\n",
    "class Student(Person): pass\n",
    "print(issubclass(Student, Person))\n"
   ]
  },
  {
   "cell_type": "code",
   "execution_count": 12,
   "id": "09e36286",
   "metadata": {},
   "outputs": [
    {
     "name": "stdout",
     "output_type": "stream",
     "text": [
      "Nandish 500000 IT\n"
     ]
    }
   ],
   "source": [
    "#Q11\n",
    "\n",
    "class Employee:\n",
    "    def __init__(self,name,salary):\n",
    "        self.name=name; self.salary=salary\n",
    "class Manager(Employee):\n",
    "    def __init__(self,name,salary,dept):\n",
    "        super().__init__(name,salary)\n",
    "        self.dept=dept\n",
    "\n",
    "m=Manager(\"Nandish\",500000,\"IT\")\n",
    "print(m.name,m.salary,m.dept)\n"
   ]
  },
  {
   "cell_type": "code",
   "execution_count": 13,
   "id": "fcc3a818",
   "metadata": {},
   "outputs": [
    {
     "name": "stdout",
     "output_type": "stream",
     "text": [
      "True\n",
      "True\n",
      "True\n"
     ]
    }
   ],
   "source": [
    "#Q12\n",
    "\n",
    "class Grandparent: pass\n",
    "class Parent(Grandparent): pass\n",
    "class Child(Parent): pass\n",
    "\n",
    "print(issubclass(Parent,Grandparent))\n",
    "print(issubclass(Child,Parent))\n",
    "print(issubclass(Child,Grandparent))\n"
   ]
  },
  {
   "cell_type": "code",
   "execution_count": 14,
   "id": "9a73641d",
   "metadata": {},
   "outputs": [
    {
     "name": "stdout",
     "output_type": "stream",
     "text": [
      "Base display\n",
      "Derived display\n"
     ]
    }
   ],
   "source": [
    "#Q13\n",
    "\n",
    "class Base:\n",
    "    def display(self): print(\"Base display\")\n",
    "class Derived(Base):\n",
    "    def display(self):\n",
    "        super().display()\n",
    "        print(\"Derived display\")\n",
    "\n",
    "Derived().display()\n"
   ]
  },
  {
   "cell_type": "code",
   "execution_count": 15,
   "id": "dbd8eff4",
   "metadata": {},
   "outputs": [
    {
     "name": "stdout",
     "output_type": "stream",
     "text": [
      "Nandish Super\n"
     ]
    }
   ],
   "source": [
    "#Q14\n",
    "\n",
    "class User:\n",
    "    def __init__(self,username): self.username=username\n",
    "class Admin(User):\n",
    "    def __init__(self,username,level):\n",
    "        super().__init__(username)\n",
    "        self.level=level\n",
    "\n",
    "a=Admin(\"Nandish\",\"Super\")\n",
    "print(a.username,a.level)\n"
   ]
  }
 ],
 "metadata": {
  "kernelspec": {
   "display_name": "base",
   "language": "python",
   "name": "python3"
  },
  "language_info": {
   "codemirror_mode": {
    "name": "ipython",
    "version": 3
   },
   "file_extension": ".py",
   "mimetype": "text/x-python",
   "name": "python",
   "nbconvert_exporter": "python",
   "pygments_lexer": "ipython3",
   "version": "3.13.5"
  }
 },
 "nbformat": 4,
 "nbformat_minor": 5
}
