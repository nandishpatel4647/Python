{
 "cells": [
  {
   "cell_type": "code",
   "execution_count": 4,
   "id": "8b4fe023",
   "metadata": {},
   "outputs": [
    {
     "name": "stdout",
     "output_type": "stream",
     "text": [
      "Factorial: 6\n"
     ]
    }
   ],
   "source": [
    "#Q1 Write a recursive function to calculate the factorial of a given number. \n",
    "#- Ensure the program handles edge cases (e.g., negative inputs).\n",
    "\n",
    "def factorial(n):\n",
    "    if n < 0:\n",
    "        return \"Factorial not defined for negative numbers\"\n",
    "    elif n == 0 or n == 1:\n",
    "        return 1\n",
    "    else:\n",
    "        return n * factorial(n-1)\n",
    "\n",
    "num = int(input(\"Enter a number: \"))\n",
    "print(\"Factorial:\", factorial(num))"
   ]
  },
  {
   "cell_type": "code",
   "execution_count": 8,
   "id": "8c91dd83",
   "metadata": {},
   "outputs": [
    {
     "name": "stdout",
     "output_type": "stream",
     "text": [
      "Fibonacci(0) = 0\n",
      "Fibonacci(1) = 1\n",
      "Fibonacci(2) = 1\n",
      "Fibonacci(3) = 2\n",
      "Fibonacci(4) = 3\n"
     ]
    }
   ],
   "source": [
    "#Q2 Implement a recursive function to calculate the nth Fibonacci number. - Test the function with various inputs.\n",
    "\n",
    "def fibonacci(n):\n",
    "    if n < 0:\n",
    "        return \"Fibonacci not defined for negative numbers\"\n",
    "    elif n == 0:\n",
    "        return 0\n",
    "    elif n == 1:\n",
    "        return 1\n",
    "    else:\n",
    "        return fibonacci(n-1) + fibonacci(n-2)\n",
    "\n",
    "for i in range(5):\n",
    "    print(f\"Fibonacci({i}) =\", fibonacci(i))"
   ]
  },
  {
   "cell_type": "code",
   "execution_count": 9,
   "id": "4fcc7194",
   "metadata": {},
   "outputs": [
    {
     "name": "stdout",
     "output_type": "stream",
     "text": [
      "Reversed string: hsidnaN\n"
     ]
    }
   ],
   "source": [
    "#Q3 Develop a program using recursion to reverse a string.\n",
    "\n",
    "def reverse_string(s):\n",
    "    if len(s) == 0:\n",
    "        return s\n",
    "    else:\n",
    "        return reverse_string(s[1:]) + s[0]\n",
    "\n",
    "text = input(\"Enter a string: \")\n",
    "print(\"Reversed string:\", reverse_string(text))"
   ]
  }
 ],
 "metadata": {
  "kernelspec": {
   "display_name": "base",
   "language": "python",
   "name": "python3"
  },
  "language_info": {
   "codemirror_mode": {
    "name": "ipython",
    "version": 3
   },
   "file_extension": ".py",
   "mimetype": "text/x-python",
   "name": "python",
   "nbconvert_exporter": "python",
   "pygments_lexer": "ipython3",
   "version": "3.13.5"
  }
 },
 "nbformat": 4,
 "nbformat_minor": 5
}
