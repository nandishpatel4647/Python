{
 "cells": [
  {
   "cell_type": "code",
   "execution_count": null,
   "id": "1c3e6ddb",
   "metadata": {},
   "outputs": [
    {
     "name": "stdout",
     "output_type": "stream",
     "text": [
      "Hello Nandish, Patel!\n"
     ]
    }
   ],
   "source": [
    "#1\n",
    "firstname= input(\"Enter your first name\")\n",
    "lastname= input(\"Enter your lastname\")\n",
    "\n",
    "print(f\"Hello {firstname}, {lastname}!\")"
   ]
  },
  {
   "cell_type": "code",
   "execution_count": null,
   "id": "8094cdf5",
   "metadata": {},
   "outputs": [
    {
     "name": "stdout",
     "output_type": "stream",
     "text": [
      "The price of apple is 5.50 dollars.\n"
     ]
    }
   ],
   "source": [
    "#2\n",
    "item= \"apple\"\n",
    "price= 5.50\n",
    "\n",
    "print(f\"The price of {item} is {price:.2f} dollars.\")"
   ]
  },
  {
   "cell_type": "code",
   "execution_count": null,
   "id": "1bcda66e",
   "metadata": {},
   "outputs": [
    {
     "name": "stdout",
     "output_type": "stream",
     "text": [
      "Reversed string is madam\n",
      "This string is a palindrome\n"
     ]
    }
   ],
   "source": [
    "#3\n",
    "text =input(\"Enter a string\")\n",
    "reversetest = text[::-1]\n",
    "print(f\"Reversed string is {reversetest}\")\n",
    "\n",
    "if text == reversetest:\n",
    "  print(\"This string is a palindrome\")\n",
    "\n",
    "else:\n",
    "  print(\"This string is not a palindrome\")\n"
   ]
  },
  {
   "cell_type": "code",
   "execution_count": null,
   "id": "914905ba",
   "metadata": {},
   "outputs": [
    {
     "name": "stdout",
     "output_type": "stream",
     "text": [
      "Uppercase: NANDISH\n",
      "lowercase: nandish\n",
      "title: Nandish\n"
     ]
    }
   ],
   "source": [
    "#4\n",
    "text= input(\"Enter a text\")\n",
    "\n",
    "uppercase= text.upper()\n",
    "lowercase= text.lower()\n",
    "title= text.title()\n",
    "\n",
    "print(f\"Uppercase: {uppercase}\")\n",
    "print(f\"lowercase: {lowercase}\")\n",
    "print(f\"title: {title}\")"
   ]
  },
  {
   "cell_type": "code",
   "execution_count": null,
   "id": "209fd1ec",
   "metadata": {},
   "outputs": [
    {
     "name": "stdout",
     "output_type": "stream",
     "text": [
      "Position of \"AI\": 4\n",
      "Updated sentence: Machine Learning and Artificial Intelligence are trending\n",
      "Number of times \"data\" appears: 3\n"
     ]
    }
   ],
   "source": [
    "#5\n",
    "sentence = \"Machine Learning and AI are trending\"\n",
    "\n",
    "words = sentence.split()\n",
    "position = words.index(\"AI\") +1\n",
    "print(f'Position of \"AI\": {position}')\n",
    "\n",
    "new_sentence = sentence.replace(\"AI\", \"Artificial Intelligence\")\n",
    "print(\"Updated sentence:\", new_sentence)\n",
    "\n",
    "text = \"data data mining and big data\"\n",
    "count = text.split().count(\"data\")\n",
    "print(f'Number of times \"data\" appears: {count}')\n"
   ]
  },
  {
   "cell_type": "code",
   "execution_count": null,
   "id": "fe19566f",
   "metadata": {},
   "outputs": [
    {
     "name": "stdout",
     "output_type": "stream",
     "text": [
      "List of fruits: ['apple', 'banana', 'grapes']\n",
      "Joined sentence: Python is awesome\n",
      "Printing lines one by one:\n",
      "Line 1: This is Python\n",
      "Line 2: It is fun\n",
      "Line 3: Keep learning!\n"
     ]
    }
   ],
   "source": [
    "#6\n",
    "\n",
    "fruits = \"apple,banana,grapes\".split(\",\")\n",
    "print(\"List of fruits:\", fruits)\n",
    "\n",
    "words = [\"Python\", \"is\", \"awesome\"]\n",
    "sentence = \" \".join(words)\n",
    "print(\"Joined sentence:\", sentence)\n",
    "\n",
    "multiline_string = \"\"\"Line 1: This is Python\n",
    "Line 2: It is fun\n",
    "Line 3: Keep learning!\"\"\"\n",
    "\n",
    "lines = multiline_string.split(\"\\n\")\n",
    "print(\"Printing lines one by one:\")\n",
    "for line in lines:\n",
    "    print(line)\n"
   ]
  },
  {
   "cell_type": "code",
   "execution_count": null,
   "id": "d5a7087a",
   "metadata": {},
   "outputs": [
    {
     "name": "stdout",
     "output_type": "stream",
     "text": [
      "True\n",
      "DataScience\n",
      "nohtyP\n"
     ]
    }
   ],
   "source": [
    "#7\n",
    "\n",
    "txt = \"Hello everyone in the World\"\n",
    "print(txt.startswith(\"Hello\") and txt.endswith(\"World\"))\n",
    "\n",
    "s = \"Data123#Science!\"\n",
    "print(''.join(ch for ch in s if ch.isalpha()))\n",
    "\n",
    "print(\"Python\"[::-1])"
   ]
  }
 ],
 "metadata": {
  "kernelspec": {
   "display_name": "base",
   "language": "python",
   "name": "python3"
  },
  "language_info": {
   "codemirror_mode": {
    "name": "ipython",
    "version": 3
   },
   "file_extension": ".py",
   "mimetype": "text/x-python",
   "name": "python",
   "nbconvert_exporter": "python",
   "pygments_lexer": "ipython3",
   "version": "3.13.5"
  }
 },
 "nbformat": 4,
 "nbformat_minor": 5
}
